{
 "cells": [
  {
   "cell_type": "code",
   "execution_count": null,
   "metadata": {
    "collapsed": true
   },
   "outputs": [],
   "source": [
    "from docGPT_core import *"
   ]
  },
  {
   "cell_type": "code",
   "execution_count": null,
   "metadata": {
    "collapsed": false
   },
   "outputs": [],
   "source": [
    "set_tokens(OPENAI_TOKEN='',\n",
    "                  HF_TOKEN=\"\")\n",
    "hf_embeddings = Embedding(model_name='sentence-transformers/all-MiniLM-L6-v2', model_type = 'hf')\n",
    "openai_embeddings = Embedding(model_type='openai')\n",
    "persona = Persona(personality_type='explainer')\n",
    "llm = Llm(model_type='gpt-3.5-turbo')"
   ]
  },
  {
   "cell_type": "code",
   "execution_count": null,
   "metadata": {
    "collapsed": false
   },
   "outputs": [],
   "source": [
    "my_loader = DirectoryLoader('data')\n",
    "docs = my_loader.load()\n",
    "text_split = RecursiveCharacterTextSplitter(chunk_size=3000, chunk_overlap=1000)"
   ]
  },
  {
   "cell_type": "code",
   "execution_count": null,
   "metadata": {
    "collapsed": false
   },
   "outputs": [],
   "source": [
    "splits = text_split.split_documents(docs)"
   ]
  },
  {
   "cell_type": "code",
   "execution_count": null,
   "metadata": {
    "collapsed": false
   },
   "outputs": [],
   "source": [
    "llm.model.get_num_tokens(splits[1100].page_content)"
   ]
  },
  {
   "cell_type": "code",
   "execution_count": null,
   "metadata": {
    "collapsed": false
   },
   "outputs": [],
   "source": [
    "import time\n",
    "vs = FAISS.from_documents([splits[0]], embedding=openai_embeddings.model)\n",
    "batch_size = 20\n",
    "num_batches = len(splits) // batch_size + 1\n",
    "for i in range(num_batches):\n",
    "    start_idx = (i * batch_size)\n",
    "    end_idx = min(start_idx + batch_size, len(splits))\n",
    "    batch = splits[start_idx:end_idx]\n",
    "    vs.add_documents(batch)\n",
    "    print(f\"Added {len(batch)} documents to vectorstore. Progress: {end_idx}/{len(splits)}\")\n",
    "    time.sleep(0.5)"
   ]
  },
  {
   "cell_type": "code",
   "execution_count": null,
   "metadata": {
    "collapsed": false
   },
   "outputs": [],
   "source": [
    "Vs = VectorStore(embedding_model=openai_embeddings, from_large_embeddings=True, vectorstore=vs)\n",
    "Vs.save('store/medqa.pkl')"
   ]
  },
  {
   "cell_type": "code",
   "execution_count": null,
   "metadata": {
    "collapsed": false
   },
   "outputs": [],
   "source": [
    "qa = RetrievalQA.from_chain_type(llm=llm.model, chain_type='stuff', retriever=Vs.store.as_retriever(search_kwargs={\"k\": 3}), verbose=True, chain_type_kwargs=persona.persona)"
   ]
  },
  {
   "cell_type": "code",
   "execution_count": null,
   "metadata": {
    "collapsed": false
   },
   "outputs": [],
   "source": [
    "q = \"\"\"\n",
    "A 31-year-old G2P2 female at 40 weeks gestation presents to the hospital following a rush of water that came from her vagina. She is 4 cm dilated and 80% effaced. Fetal heart tracing shows a pulse of 155/min with variable decelerations. About 12 hours after presentation, she gives birth to a 6 lb 15 oz baby boy with APGAR scores of 8 and 9 at 1 and 5 minutes, respectively. Which of the following structures is responsible for inhibition of female internal genitalia?\n",
    "\n",
    "\"A\": \"Spermatogonia\", \"B\": \"Allantois\", \"C\": \"Syncytiotrophoblast\", \"D\": \"Sertoli cells\", \"E\": \"Leydig cells\"\n",
    "\n",
    "\"\"\"\n",
    "\n",
    "res = qa(inputs={\"query\": q})\n",
    "print(res['result'])"
   ]
  },
  {
   "cell_type": "code",
   "execution_count": null,
   "metadata": {
    "collapsed": false
   },
   "outputs": [],
   "source": [
    "res = qa(inputs={\"query\": q})"
   ]
  },
  {
   "cell_type": "code",
   "execution_count": null,
   "metadata": {
    "collapsed": false
   },
   "outputs": [],
   "source": [
    "print(res['result'])"
   ]
  },
  {
   "cell_type": "code",
   "execution_count": null,
   "metadata": {},
   "outputs": [],
   "source": []
  }
 ],
 "metadata": {
  "kernelspec": {
   "display_name": "Python 3",
   "language": "python",
   "name": "python3"
  },
  "language_info": {
   "codemirror_mode": {
    "name": "ipython",
    "version": 3
   },
   "file_extension": ".py",
   "mimetype": "text/x-python",
   "name": "python",
   "nbconvert_exporter": "python",
   "pygments_lexer": "ipython3",
   "version": "3.11.4"
  }
 },
 "nbformat": 4,
 "nbformat_minor": 0
}
