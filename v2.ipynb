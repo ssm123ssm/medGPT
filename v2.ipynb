{
 "cells": [
  {
   "cell_type": "code",
   "execution_count": 1,
   "metadata": {},
   "outputs": [],
   "source": [
    "from docGPT_core import *"
   ]
  },
  {
   "cell_type": "code",
   "execution_count": 2,
   "metadata": {
    "ExecuteTime": {
     "end_time": "2023-07-29T16:32:14.803210Z",
     "start_time": "2023-07-29T16:32:13.942276Z"
    }
   },
   "outputs": [],
   "source": [
    "set_tokens(OPENAI_TOKEN='',HF_TOKEN=\"\")\n",
    "hf_embeddings = Embedding(model_name='sentence-transformers/all-MiniLM-L6-v2', model_type = 'hf')\n",
    "openai_embeddings = Embedding(model_type='openai')\n",
    "persona = Persona(personality_type='explainer')\n",
    "llm = Llm(model_type='gpt-3.5-turbo')\n",
    "#llm_math_chain = LLMMathChain.from_llm(llm=llm.model, verbose=True)"
   ]
  },
  {
   "cell_type": "code",
   "execution_count": null,
   "metadata": {
    "ExecuteTime": {
     "end_time": "2023-07-29T16:32:22.919604Z",
     "start_time": "2023-07-29T16:32:16.432675Z"
    },
    "collapsed": false
   },
   "outputs": [],
   "source": [
    "#vs = VectorStore(embedding_model=openai_embeddings, chunk_size=2000, chunk_overlap=500)"
   ]
  },
  {
   "cell_type": "code",
   "execution_count": 4,
   "metadata": {
    "ExecuteTime": {
     "end_time": "2023-07-29T16:32:23.002658Z",
     "start_time": "2023-07-29T16:32:22.991358Z"
    },
    "collapsed": false
   },
   "outputs": [
    {
     "name": "stderr",
     "output_type": "stream",
     "text": [
      "WARNING:root:Vectorstore loaded from disk\n"
     ]
    }
   ],
   "source": [
    "#vs.save('store/sutra.pkl')\n",
    "vs = load_vectorstore('store/sutra.pkl')"
   ]
  },
  {
   "cell_type": "code",
   "execution_count": 5,
   "metadata": {
    "ExecuteTime": {
     "end_time": "2023-07-29T16:32:47.555340Z",
     "start_time": "2023-07-29T16:32:47.542668Z"
    },
    "collapsed": false
   },
   "outputs": [],
   "source": [
    "chain = Chain(retriever=Retriever(vs, k=4), llm=llm, persona=persona)"
   ]
  },
  {
   "cell_type": "code",
   "execution_count": null,
   "metadata": {
    "ExecuteTime": {
     "end_time": "2023-07-29T16:32:48.369679Z",
     "start_time": "2023-07-29T16:32:48.355243Z"
    },
    "collapsed": false
   },
   "outputs": [],
   "source": [
    "tools = [\n",
    "    Tool(\n",
    "        name=\"bnf_tool\",\n",
    "        func=chain_bnf_2000.qa.run,\n",
    "        description=\"useful for when you need to answer questions about specific drug doses, indications, contraindications, interactions, cautions.\",\n",
    "        return_direct=False\n",
    "    ),\n",
    "    Tool(\n",
    "        name=\"rnd_tool\",\n",
    "        func=chain_rnd_2000.qa.run,\n",
    "        description=\"useful for when you need to answer questions about drug mechanism of actions, pharmacokinetics and pharmacodynemics.\",\n",
    "        return_direct=False\n",
    "    ),\n",
    "    # Tool(\n",
    "    #     name=\"Calculator\",\n",
    "    #     func=llm_math_chain.run,\n",
    "    #     description=\"useful for when you need to answer questions about math\"\n",
    "    # )\n",
    "]\n",
    "agent = initialize_agent(tools, llm.model, agent=AgentType.ZERO_SHOT_REACT_DESCRIPTION, verbose=True, return_intermediate_steps=True)"
   ]
  },
  {
   "cell_type": "code",
   "execution_count": null,
   "metadata": {
    "ExecuteTime": {
     "end_time": "2023-07-29T16:32:49.288932Z",
     "start_time": "2023-07-29T16:32:49.274607Z"
    },
    "collapsed": false
   },
   "outputs": [],
   "source": [
    "query = \"what is maximum metformin dose?\""
   ]
  },
  {
   "cell_type": "code",
   "execution_count": null,
   "metadata": {
    "ExecuteTime": {
     "end_time": "2023-07-29T16:32:50.862193Z",
     "start_time": "2023-07-29T16:32:49.999671Z"
    },
    "collapsed": false
   },
   "outputs": [],
   "source": [
    "result_obj = chain.qa(inputs={\"query\": query})"
   ]
  },
  {
   "cell_type": "code",
   "execution_count": null,
   "metadata": {
    "ExecuteTime": {
     "end_time": "2023-07-29T16:32:31.639713Z",
     "start_time": "2023-07-29T16:32:31.621325Z"
    },
    "collapsed": false
   },
   "outputs": [],
   "source": [
    "result_obj['result']"
   ]
  },
  {
   "cell_type": "code",
   "execution_count": null,
   "metadata": {
    "collapsed": false
   },
   "outputs": [],
   "source": [
    "import os\n",
    "\n",
    "for key, value in os.environ.items():\n",
    "    print(key + ': ' + value)"
   ]
  },
  {
   "cell_type": "code",
   "execution_count": null,
   "metadata": {
    "collapsed": false
   },
   "outputs": [],
   "source": [
    "summary = summarizer.summarize(vectorstore=vs_rnd_2000, llm=llm, max_tokens=5000)"
   ]
  },
  {
   "cell_type": "code",
   "execution_count": null,
   "metadata": {
    "collapsed": false
   },
   "outputs": [],
   "source": [
    "summary"
   ]
  },
  {
   "cell_type": "code",
   "execution_count": 6,
   "metadata": {
    "collapsed": false
   },
   "outputs": [
    {
     "name": "stderr",
     "output_type": "stream",
     "text": [
      "/usr/local/lib/python3.11/site-packages/gradio/utils.py:835: UserWarning: Expected 1 arguments for function <function build_vs at 0x13d55f2e0>, received 0.\n",
      "  warnings.warn(\n",
      "/usr/local/lib/python3.11/site-packages/gradio/utils.py:839: UserWarning: Expected at least 1 arguments for function <function build_vs at 0x13d55f2e0>, received 0.\n",
      "  warnings.warn(\n"
     ]
    },
    {
     "name": "stdout",
     "output_type": "stream",
     "text": [
      "Running on local URL:  http://127.0.0.1:7860\n",
      "\n",
      "To create a public link, set `share=True` in `launch()`.\n"
     ]
    },
    {
     "data": {
      "text/html": [
       "<div><iframe src=\"http://127.0.0.1:7860/\" width=\"100%\" height=\"500\" allow=\"autoplay; camera; microphone; clipboard-read; clipboard-write;\" frameborder=\"0\" allowfullscreen></iframe></div>"
      ],
      "text/plain": [
       "<IPython.core.display.HTML object>"
      ]
     },
     "metadata": {},
     "output_type": "display_data"
    },
    {
     "name": "stdout",
     "output_type": "stream",
     "text": [
      "Use Chain (Recommended)\n",
      "\n",
      "\n",
      "\u001b[1m> Entering new  chain...\u001b[0m\n",
      "\n",
      "\u001b[1m> Finished chain.\u001b[0m\n",
      "Keyboard interruption in main thread... closing server.\n"
     ]
    },
    {
     "data": {
      "text/plain": []
     },
     "execution_count": 6,
     "metadata": {},
     "output_type": "execute_result"
    }
   ],
   "source": [
    "import os\n",
    "import gradio as gr\n",
    "import pprint\n",
    "\n",
    "llm_txt = llm.model.model_name\n",
    "emb_txt = openai_embeddings.model.model\n",
    "status_code = \"### Model specifications <br> \\n\" + \"`LLM: \" + llm_txt + \"`\" + \" <br> `Embedding model: \" + emb_txt + \"`\"\n",
    "\n",
    "def chatbot(question, method):\n",
    "    print(method)\n",
    "    if method == 'Use Chain (Recommended)':\n",
    "        result_obj = chain.qa(inputs={\"query\": question})\n",
    "        result = result_obj['result']\n",
    "        steps_text = \"Running via single chain...\"\n",
    "    elif method == 'Use Agent (Experimental)':\n",
    "        result_obj = agent(inputs={\"input\": question})\n",
    "        result = result_obj['output']\n",
    "        steps_text = str(pprint.pformat(result_obj['intermediate_steps']))\n",
    "    #result = chain_rnd_bnf_2000.qa(inputs={\"query\": question})\n",
    "    #sources = ', \\n\\n'.join(str(doc) for doc in result['source_documents'])\n",
    "    return {output: output.update(value=result),\n",
    "            #acc: acc.update(value=sources)\n",
    "            steps: steps.update(value=steps_text)\n",
    "            }\n",
    "\n",
    "def get_sources_docs():\n",
    "    return os.listdir('data/')\n",
    "\n",
    "def get_vectors_list():\n",
    "    directory = 'store/'\n",
    "    pkl_files = [f for f in os.listdir(directory) if f.endswith('.pkl')]\n",
    "    return pkl_files\n",
    "\n",
    "def get_pkl_files():\n",
    "    return \", \\n\".join(get_vectors_list())\n",
    "\n",
    "def is_vectorstore_available():\n",
    "    return True if len(get_vectors_list()) > 0 else False\n",
    "\n",
    "def center_text(text):\n",
    "    return \"<div style='text-align:center;'>\" + text + \"</div>\"\n",
    "\n",
    "def build_vs(ins):\n",
    "    vs = VectorStore(embedding_model=openai_embeddings)\n",
    "    vs.save(store_name='store/vectorstore.pkl')\n",
    "    return {df: df.update(visible = True), btn : btn.update(visible=True), builder : builder.update(visible=False), rad:rad.update(value=\"Ready\")}\n",
    "\n",
    "with gr.Blocks(theme=gr.blocks.themes.Default()) as demo:\n",
    "    source_list = \", \\n\\n\".join(get_sources_docs())\n",
    "    pkl_files = \", \\n\\n\".join(get_vectors_list())\n",
    "\n",
    "    gr.Markdown(\n",
    "        \"\"\"\n",
    "        <h1 align=\"center\">\n",
    "        docGPT!\n",
    "        </h1>\n",
    "        <p align=\"center\">\n",
    "        version 1.2.\n",
    "        </p>\n",
    "\n",
    "        \"\"\"\n",
    "    )\n",
    "\n",
    "    with gr.Row(equal_height=True):\n",
    "        gr.Textbox(interactive=False, value=source_list, min_width=1, label=\"Documents in current knowledgebase\")\n",
    "        with gr.Column():\n",
    "            v_txt = gr.Textbox(interactive=False, value=get_pkl_files(), min_width=1, label=\"Available vectorstores\", visible=False)\n",
    "            rad = gr.Radio(choices=['Ready', 'Not built'], value= \"Ready\" if is_vectorstore_available() else 'Not built', interactive=False, label=\"Vector store status\")\n",
    "            stats = gr.Markdown(status_code)\n",
    "            agent_toggle = gr.Radio(choices=['Use Chain (Recommended)', 'Use Agent (Experimental)'], value='Use Chain (Recommended)', label='Run method', interactive=True)\n",
    "    builder = gr.Button(\"Build vector store\", visible = not is_vectorstore_available())\n",
    "\n",
    "\n",
    "    with gr.Row(visible=True if is_vectorstore_available() else False) as df:\n",
    "        input = gr.Textbox(label='Ask your question specifically.')\n",
    "        output = gr.Textbox(label='Answer')\n",
    "    #acc = gr.Textbox(label=\"Sources\", max_lines=10)\n",
    "    steps = gr.Textbox(label=\"Method info\", max_lines=5)\n",
    "\n",
    "    btn = gr.Button(\"Ask docGPT\", visible=True if is_vectorstore_available() else False)\n",
    "    #btn.click(fn = chatbot, inputs=input, outputs=[output, acc],api_name='answer')\n",
    "    btn.click(fn = chatbot, inputs=[input, agent_toggle], outputs=[output, steps],api_name='answer')\n",
    "\n",
    "    builder.click(fn=build_vs, outputs=[df, btn, rad, builder])\n",
    "\n",
    "demo.launch(debug=True)"
   ]
  }
 ],
 "metadata": {
  "kernelspec": {
   "display_name": "Python 3 (ipykernel)",
   "language": "python",
   "name": "python3"
  },
  "language_info": {
   "codemirror_mode": {
    "name": "ipython",
    "version": 3
   },
   "file_extension": ".py",
   "mimetype": "text/x-python",
   "name": "python",
   "nbconvert_exporter": "python",
   "pygments_lexer": "ipython3",
   "version": "3.11.4"
  }
 },
 "nbformat": 4,
 "nbformat_minor": 1
}
